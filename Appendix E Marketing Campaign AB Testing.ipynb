{
 "cells": [
  {
   "cell_type": "markdown",
   "id": "64909969",
   "metadata": {},
   "source": [
    "In order not to cause lag, I put the ab testing part in a separate file to run..."
   ]
  },
  {
   "cell_type": "code",
   "execution_count": 1,
   "id": "ea3b736f",
   "metadata": {},
   "outputs": [],
   "source": [
    "import pandas as pd\n",
    "import numpy as np\n",
    "import math \n",
    "from scipy import stats\n",
    "import seaborn as sns\n",
    "import matplotlib.pyplot as plt\n",
    "pd.options.display.max_columns = None\n",
    "pd.options.display.max_rows = None"
   ]
  },
  {
   "cell_type": "code",
   "execution_count": 2,
   "id": "3e42d364",
   "metadata": {
    "scrolled": true
   },
   "outputs": [
    {
     "data": {
      "text/html": [
       "<div>\n",
       "<style scoped>\n",
       "    .dataframe tbody tr th:only-of-type {\n",
       "        vertical-align: middle;\n",
       "    }\n",
       "\n",
       "    .dataframe tbody tr th {\n",
       "        vertical-align: top;\n",
       "    }\n",
       "\n",
       "    .dataframe thead th {\n",
       "        text-align: right;\n",
       "    }\n",
       "</style>\n",
       "<table border=\"1\" class=\"dataframe\">\n",
       "  <thead>\n",
       "    <tr style=\"text-align: right;\">\n",
       "      <th></th>\n",
       "      <th>ID</th>\n",
       "      <th>Education</th>\n",
       "      <th>Income</th>\n",
       "      <th>Kids</th>\n",
       "      <th>Teens</th>\n",
       "      <th>Recency</th>\n",
       "      <th>Wines</th>\n",
       "      <th>Fruits</th>\n",
       "      <th>Meat</th>\n",
       "      <th>Fish</th>\n",
       "      <th>Sweets</th>\n",
       "      <th>Gold</th>\n",
       "      <th>Deal Purchases</th>\n",
       "      <th>Web Purchases</th>\n",
       "      <th>Catalog Purchases</th>\n",
       "      <th>Store Purchases</th>\n",
       "      <th>Web Visits Month</th>\n",
       "      <th>Cmp3 Accepted</th>\n",
       "      <th>Cmp4 Accepted</th>\n",
       "      <th>Cmp5 Accepted</th>\n",
       "      <th>Cmp1 Accepted</th>\n",
       "      <th>Cmp2 Accepted</th>\n",
       "      <th>Complain</th>\n",
       "      <th>Response</th>\n",
       "      <th>Spending</th>\n",
       "      <th>Age</th>\n",
       "      <th>Has Child</th>\n",
       "      <th>Marital Status</th>\n",
       "      <th>Generation</th>\n",
       "      <th>Income Group</th>\n",
       "      <th>Enrollment Year</th>\n",
       "      <th>Enrollment Month</th>\n",
       "      <th>Enrollment Day</th>\n",
       "    </tr>\n",
       "  </thead>\n",
       "  <tbody>\n",
       "    <tr>\n",
       "      <th>0</th>\n",
       "      <td>5524</td>\n",
       "      <td>Graduation</td>\n",
       "      <td>58138.0</td>\n",
       "      <td>0</td>\n",
       "      <td>0</td>\n",
       "      <td>58</td>\n",
       "      <td>635</td>\n",
       "      <td>88</td>\n",
       "      <td>546</td>\n",
       "      <td>172</td>\n",
       "      <td>88</td>\n",
       "      <td>88</td>\n",
       "      <td>3</td>\n",
       "      <td>8</td>\n",
       "      <td>10</td>\n",
       "      <td>4</td>\n",
       "      <td>7</td>\n",
       "      <td>0</td>\n",
       "      <td>0</td>\n",
       "      <td>0</td>\n",
       "      <td>0</td>\n",
       "      <td>0</td>\n",
       "      <td>0</td>\n",
       "      <td>1</td>\n",
       "      <td>1617</td>\n",
       "      <td>66</td>\n",
       "      <td>1</td>\n",
       "      <td>Single</td>\n",
       "      <td>Baby Boomers</td>\n",
       "      <td>High</td>\n",
       "      <td>2012</td>\n",
       "      <td>9</td>\n",
       "      <td>4</td>\n",
       "    </tr>\n",
       "    <tr>\n",
       "      <th>1</th>\n",
       "      <td>2174</td>\n",
       "      <td>Graduation</td>\n",
       "      <td>46344.0</td>\n",
       "      <td>1</td>\n",
       "      <td>1</td>\n",
       "      <td>38</td>\n",
       "      <td>11</td>\n",
       "      <td>1</td>\n",
       "      <td>6</td>\n",
       "      <td>2</td>\n",
       "      <td>1</td>\n",
       "      <td>6</td>\n",
       "      <td>2</td>\n",
       "      <td>1</td>\n",
       "      <td>1</td>\n",
       "      <td>2</td>\n",
       "      <td>5</td>\n",
       "      <td>0</td>\n",
       "      <td>0</td>\n",
       "      <td>0</td>\n",
       "      <td>0</td>\n",
       "      <td>0</td>\n",
       "      <td>0</td>\n",
       "      <td>0</td>\n",
       "      <td>27</td>\n",
       "      <td>69</td>\n",
       "      <td>0</td>\n",
       "      <td>Single</td>\n",
       "      <td>Baby Boomers</td>\n",
       "      <td>Moderate</td>\n",
       "      <td>2014</td>\n",
       "      <td>3</td>\n",
       "      <td>8</td>\n",
       "    </tr>\n",
       "    <tr>\n",
       "      <th>2</th>\n",
       "      <td>4141</td>\n",
       "      <td>Graduation</td>\n",
       "      <td>71613.0</td>\n",
       "      <td>0</td>\n",
       "      <td>0</td>\n",
       "      <td>26</td>\n",
       "      <td>426</td>\n",
       "      <td>49</td>\n",
       "      <td>127</td>\n",
       "      <td>111</td>\n",
       "      <td>21</td>\n",
       "      <td>42</td>\n",
       "      <td>1</td>\n",
       "      <td>8</td>\n",
       "      <td>2</td>\n",
       "      <td>10</td>\n",
       "      <td>4</td>\n",
       "      <td>0</td>\n",
       "      <td>0</td>\n",
       "      <td>0</td>\n",
       "      <td>0</td>\n",
       "      <td>0</td>\n",
       "      <td>0</td>\n",
       "      <td>0</td>\n",
       "      <td>776</td>\n",
       "      <td>58</td>\n",
       "      <td>1</td>\n",
       "      <td>In a relationship</td>\n",
       "      <td>Generation X</td>\n",
       "      <td>Very High</td>\n",
       "      <td>2013</td>\n",
       "      <td>8</td>\n",
       "      <td>21</td>\n",
       "    </tr>\n",
       "    <tr>\n",
       "      <th>3</th>\n",
       "      <td>6182</td>\n",
       "      <td>Graduation</td>\n",
       "      <td>26646.0</td>\n",
       "      <td>1</td>\n",
       "      <td>0</td>\n",
       "      <td>26</td>\n",
       "      <td>11</td>\n",
       "      <td>4</td>\n",
       "      <td>20</td>\n",
       "      <td>10</td>\n",
       "      <td>3</td>\n",
       "      <td>5</td>\n",
       "      <td>2</td>\n",
       "      <td>2</td>\n",
       "      <td>0</td>\n",
       "      <td>4</td>\n",
       "      <td>6</td>\n",
       "      <td>0</td>\n",
       "      <td>0</td>\n",
       "      <td>0</td>\n",
       "      <td>0</td>\n",
       "      <td>0</td>\n",
       "      <td>0</td>\n",
       "      <td>0</td>\n",
       "      <td>53</td>\n",
       "      <td>39</td>\n",
       "      <td>0</td>\n",
       "      <td>In a relationship</td>\n",
       "      <td>Millennials</td>\n",
       "      <td>Low</td>\n",
       "      <td>2014</td>\n",
       "      <td>2</td>\n",
       "      <td>10</td>\n",
       "    </tr>\n",
       "    <tr>\n",
       "      <th>4</th>\n",
       "      <td>5324</td>\n",
       "      <td>PhD</td>\n",
       "      <td>58293.0</td>\n",
       "      <td>1</td>\n",
       "      <td>0</td>\n",
       "      <td>94</td>\n",
       "      <td>173</td>\n",
       "      <td>43</td>\n",
       "      <td>118</td>\n",
       "      <td>46</td>\n",
       "      <td>27</td>\n",
       "      <td>15</td>\n",
       "      <td>5</td>\n",
       "      <td>5</td>\n",
       "      <td>3</td>\n",
       "      <td>6</td>\n",
       "      <td>5</td>\n",
       "      <td>0</td>\n",
       "      <td>0</td>\n",
       "      <td>0</td>\n",
       "      <td>0</td>\n",
       "      <td>0</td>\n",
       "      <td>0</td>\n",
       "      <td>0</td>\n",
       "      <td>422</td>\n",
       "      <td>42</td>\n",
       "      <td>0</td>\n",
       "      <td>In a relationship</td>\n",
       "      <td>Millennials</td>\n",
       "      <td>High</td>\n",
       "      <td>2014</td>\n",
       "      <td>1</td>\n",
       "      <td>19</td>\n",
       "    </tr>\n",
       "  </tbody>\n",
       "</table>\n",
       "</div>"
      ],
      "text/plain": [
       "     ID   Education   Income  Kids  Teens  Recency  Wines  Fruits  Meat  Fish  \\\n",
       "0  5524  Graduation  58138.0     0      0       58    635      88   546   172   \n",
       "1  2174  Graduation  46344.0     1      1       38     11       1     6     2   \n",
       "2  4141  Graduation  71613.0     0      0       26    426      49   127   111   \n",
       "3  6182  Graduation  26646.0     1      0       26     11       4    20    10   \n",
       "4  5324         PhD  58293.0     1      0       94    173      43   118    46   \n",
       "\n",
       "   Sweets  Gold  Deal Purchases  Web Purchases  Catalog Purchases  \\\n",
       "0      88    88               3              8                 10   \n",
       "1       1     6               2              1                  1   \n",
       "2      21    42               1              8                  2   \n",
       "3       3     5               2              2                  0   \n",
       "4      27    15               5              5                  3   \n",
       "\n",
       "   Store Purchases  Web Visits Month  Cmp3 Accepted  Cmp4 Accepted  \\\n",
       "0                4                 7              0              0   \n",
       "1                2                 5              0              0   \n",
       "2               10                 4              0              0   \n",
       "3                4                 6              0              0   \n",
       "4                6                 5              0              0   \n",
       "\n",
       "   Cmp5 Accepted  Cmp1 Accepted  Cmp2 Accepted  Complain  Response  Spending  \\\n",
       "0              0              0              0         0         1      1617   \n",
       "1              0              0              0         0         0        27   \n",
       "2              0              0              0         0         0       776   \n",
       "3              0              0              0         0         0        53   \n",
       "4              0              0              0         0         0       422   \n",
       "\n",
       "   Age  Has Child     Marital Status    Generation Income Group  \\\n",
       "0   66          1             Single  Baby Boomers         High   \n",
       "1   69          0             Single  Baby Boomers     Moderate   \n",
       "2   58          1  In a relationship  Generation X    Very High   \n",
       "3   39          0  In a relationship   Millennials          Low   \n",
       "4   42          0  In a relationship   Millennials         High   \n",
       "\n",
       "   Enrollment Year  Enrollment Month  Enrollment Day  \n",
       "0             2012                 9               4  \n",
       "1             2014                 3               8  \n",
       "2             2013                 8              21  \n",
       "3             2014                 2              10  \n",
       "4             2014                 1              19  "
      ]
     },
     "execution_count": 2,
     "metadata": {},
     "output_type": "execute_result"
    }
   ],
   "source": [
    "data = pd.read_excel(\"Cleaned Data.xlsx\")\n",
    "data.head()"
   ]
  },
  {
   "cell_type": "markdown",
   "id": "1a37f650",
   "metadata": {},
   "source": [
    "# Two sample t-test"
   ]
  },
  {
   "cell_type": "markdown",
   "id": "12184d84",
   "metadata": {},
   "source": [
    "- Campaign 4 is the campaign with the best response rate: 167\n",
    "- Campaign 2 is the campaign with the lowest reponse rate: 30"
   ]
  },
  {
   "cell_type": "code",
   "execution_count": 3,
   "id": "c0383dd4",
   "metadata": {},
   "outputs": [
    {
     "name": "stdout",
     "output_type": "stream",
     "text": [
      "Total responses for Campaign 1: 142\n",
      "Total responses for Campaign 2: 30\n",
      "Total responses for Campaign 3: 162\n",
      "Total responses for Campaign 4: 167\n",
      "Total responses for Campaign 5: 158\n"
     ]
    }
   ],
   "source": [
    "# The campaign with the best response rate\n",
    "response_cmp1 = data['Cmp1 Accepted'].sum()\n",
    "response_cmp2 = data['Cmp2 Accepted'].sum()\n",
    "response_cmp3 = data['Cmp3 Accepted'].sum()\n",
    "response_cmp4 = data['Cmp4 Accepted'].sum()\n",
    "response_cmp5 = data['Cmp5 Accepted'].sum()\n",
    "\n",
    "print(\"Total responses for Campaign 1:\", response_cmp1)\n",
    "print(\"Total responses for Campaign 2:\", response_cmp2)\n",
    "print(\"Total responses for Campaign 3:\", response_cmp3)\n",
    "print(\"Total responses for Campaign 4:\", response_cmp4)\n",
    "print(\"Total responses for Campaign 5:\", response_cmp5)"
   ]
  },
  {
   "cell_type": "markdown",
   "id": "ec24e89d",
   "metadata": {},
   "source": [
    "### A/B testing compares response rates (customer acceptance) for top-performing campaigns between high-income and low-income groups."
   ]
  },
  {
   "cell_type": "code",
   "execution_count": 4,
   "id": "3d92398f",
   "metadata": {},
   "outputs": [],
   "source": [
    "high_income = data[data['Income Group'] == 'High']['Cmp4 Accepted']\n",
    "low_income = data[data['Income Group'] == 'Low']['Cmp4 Accepted']"
   ]
  },
  {
   "cell_type": "code",
   "execution_count": 5,
   "id": "4e8b85b3",
   "metadata": {},
   "outputs": [],
   "source": [
    "t_stat, p_val = stats.ttest_ind(high_income, low_income)"
   ]
  },
  {
   "cell_type": "code",
   "execution_count": 6,
   "id": "ff16a005",
   "metadata": {},
   "outputs": [
    {
     "name": "stdout",
     "output_type": "stream",
     "text": [
      "A/B Test 1 - T statistic: 6.8399265336358095\n",
      "A/B Test 1 - P value: 1.3531244465171712e-11\n"
     ]
    }
   ],
   "source": [
    "print(\"A/B Test 1 - T statistic:\", t_stat)\n",
    "print(\"A/B Test 1 - P value:\", p_val)"
   ]
  },
  {
   "cell_type": "code",
   "execution_count": 7,
   "id": "76201877",
   "metadata": {},
   "outputs": [
    {
     "name": "stdout",
     "output_type": "stream",
     "text": [
      "We reject the null hypothesis.\n"
     ]
    }
   ],
   "source": [
    "alpha = 0.05  # significance level: 95%\n",
    "\n",
    "# Assuming 't_stat' and 'p_val' are the outputs of the t-test\n",
    "if p_val < alpha:\n",
    "    print(\"We reject the null hypothesis.\")\n",
    "else:\n",
    "    print(\"We fail to reject the null hypothesis.\")"
   ]
  },
  {
   "cell_type": "markdown",
   "id": "e17bd965",
   "metadata": {},
   "source": [
    "- T-stat 6.84, large number, indicating a significant difference in response rates between the high- and low-income groups in the top-performing campaigns\n",
    "- p-value < 0.05, There is a significant difference in response rates between the high-income group and the low-income group.\n",
    "---------------------------------------"
   ]
  },
  {
   "cell_type": "markdown",
   "id": "d17fbf7f",
   "metadata": {},
   "source": [
    "### A/B testing compares the average number of purchases between two groups."
   ]
  },
  {
   "cell_type": "code",
   "execution_count": 8,
   "id": "c2d936ec",
   "metadata": {},
   "outputs": [],
   "source": [
    "data['Total Purchase'] = data[['Deal Purchases', 'Web Purchases', 'Catalog Purchases', 'Store Purchases']].sum(axis=1)"
   ]
  },
  {
   "cell_type": "code",
   "execution_count": 9,
   "id": "1b957970",
   "metadata": {},
   "outputs": [],
   "source": [
    "data_ab = data.copy()\n",
    "data_ab = data[['Total Purchase', 'Spending', 'Income Group', 'Cmp4 Accepted']].copy()"
   ]
  },
  {
   "cell_type": "code",
   "execution_count": 10,
   "id": "bd01fe00",
   "metadata": {},
   "outputs": [
    {
     "name": "stdout",
     "output_type": "stream",
     "text": [
      "A/B Test 2 - T statistic: 32.65287682782073\n",
      "A/B Test 2 - P value: 2.4826736220407915e-161\n"
     ]
    }
   ],
   "source": [
    "# Separate data for high and low-income groups\n",
    "high_income_purchase = data_ab[data_ab['Income Group'] == 'High']['Total Purchase']\n",
    "low_income_purchase = data_ab[data_ab['Income Group'] == 'Low']['Total Purchase']\n",
    "\n",
    "# Perform the independent samples t-test\n",
    "t_stat, p_val = stats.ttest_ind(high_income_purchase, low_income_purchase)\n",
    "\n",
    "# Print the results\n",
    "print(\"A/B Test 2 - T statistic:\", t_stat)\n",
    "print(\"A/B Test 2 - P value:\", p_val)"
   ]
  },
  {
   "cell_type": "code",
   "execution_count": 11,
   "id": "9ead603b",
   "metadata": {},
   "outputs": [
    {
     "name": "stdout",
     "output_type": "stream",
     "text": [
      "We reject the null hypothesis.\n"
     ]
    }
   ],
   "source": [
    "alpha = 0.05  # significance level: 95%\n",
    "\n",
    "# Assuming 't_stat' and 'p_val' are the outputs of the t-test\n",
    "if p_val < alpha:\n",
    "    print(\"We reject the null hypothesis.\")\n",
    "else:\n",
    "    print(\"We fail to reject the null hypothesis.\")"
   ]
  },
  {
   "cell_type": "markdown",
   "id": "0ec4c17a",
   "metadata": {},
   "source": [
    "- T-stat 32.65, large number, indicating a significant difference in average number of purchases between the two groups.\n",
    "- p-value < 0.05, There is a significant difference in average number of purchases between the two groups.\n",
    "---------------------------------------"
   ]
  },
  {
   "cell_type": "markdown",
   "id": "c78f8dd2",
   "metadata": {},
   "source": [
    "### A/B test compares the average amount spent between two groups."
   ]
  },
  {
   "cell_type": "code",
   "execution_count": 12,
   "id": "6709e618",
   "metadata": {},
   "outputs": [
    {
     "name": "stdout",
     "output_type": "stream",
     "text": [
      "T-statistic: 28.919058643140758\n",
      "P-value: 2.9155065834832874e-135\n"
     ]
    }
   ],
   "source": [
    "# Separate data for high and low-income groups\n",
    "high_income_spend = data_ab[data_ab['Income Group'] == 'High']['Spending']\n",
    "low_income_spend = data_ab[data_ab['Income Group'] == 'Low']['Spending']\n",
    "\n",
    "# Perform the independent samples t-test\n",
    "t_stat, p_val = stats.ttest_ind(high_income_spend, low_income_spend)\n",
    "\n",
    "# Print the results\n",
    "print(\"T-statistic:\", t_stat)\n",
    "print(\"P-value:\", p_val)"
   ]
  },
  {
   "cell_type": "code",
   "execution_count": 13,
   "id": "b4a2d25e",
   "metadata": {},
   "outputs": [
    {
     "name": "stdout",
     "output_type": "stream",
     "text": [
      "We reject the null hypothesis.\n"
     ]
    }
   ],
   "source": [
    "alpha = 0.05  # significance level: 95%\n",
    "\n",
    "# Assuming 't_stat' and 'p_val' are the outputs of the t-test\n",
    "if p_val < alpha:\n",
    "    print(\"We reject the null hypothesis.\")\n",
    "else:\n",
    "    print(\"We fail to reject the null hypothesis.\")"
   ]
  },
  {
   "cell_type": "markdown",
   "id": "52065d70",
   "metadata": {},
   "source": [
    "- T-stat 28.92, large number, indicating a significant difference in average spending between the two groups.\n",
    "- p-value < 0.05, There is a significant difference in average spending between the two groups.\n",
    "---------------------------------------"
   ]
  },
  {
   "cell_type": "markdown",
   "id": "d54992fd",
   "metadata": {},
   "source": [
    "# ANOVA of Variance\n",
    "- Use the ANOVA (Analysis of Variance) method to detect whether marital status affects the price (average) of their purchased products. The products examined include fish products, meat products, fruit products, desserts, wine and gold products.\n",
    "- Dependent Variables are spending on various products over the past two years\n",
    "- Independent Variables are marital status."
   ]
  },
  {
   "cell_type": "markdown",
   "id": "1a591a7a",
   "metadata": {},
   "source": [
    "### Whether Marital status affects the price of products they buy . (mean)\n",
    "- Amount spent on fish products in the past two years (MntFishProducts)\n",
    "- Amount spent on meat products in the past two years (MntMeatProducts)\n",
    "- Amount spent on fruit products in the past two years (MntFruits)\n",
    "- Amount spent on sweet products in the past two years (MntSweetProducts)\n",
    "- Amount spent on wine products in the past two years (MntWines)\n",
    "- Amount spent on gold products in the past two years (MntGoldProds)"
   ]
  },
  {
   "cell_type": "code",
   "execution_count": 14,
   "id": "2714e982",
   "metadata": {},
   "outputs": [],
   "source": [
    "product_columns = ['Fish', 'Meat', 'Fruits', 'Sweets', 'Wines', 'Gold']"
   ]
  },
  {
   "cell_type": "code",
   "execution_count": 15,
   "id": "92dada6e",
   "metadata": {},
   "outputs": [
    {
     "name": "stdout",
     "output_type": "stream",
     "text": [
      "Product: Fish\n",
      "F value: 0.27222924578919566\n",
      "P value: 0.7617050635861713\n",
      "\n",
      "We fail to reject the null hypothesis. There is no significant difference in the amount spent on this product between different marital statuses.\n",
      "\n",
      "Product: Meat\n",
      "F value: 1.2942211702333921\n",
      "P value: 0.27431809688928077\n",
      "\n",
      "We fail to reject the null hypothesis. There is no significant difference in the amount spent on this product between different marital statuses.\n",
      "\n",
      "Product: Fruits\n",
      "F value: 1.0011538157904711\n",
      "P value: 0.3676211358286876\n",
      "\n",
      "We fail to reject the null hypothesis. There is no significant difference in the amount spent on this product between different marital statuses.\n",
      "\n",
      "Product: Sweets\n",
      "F value: 0.9611743740503356\n",
      "P value: 0.38260265777813884\n",
      "\n",
      "We fail to reject the null hypothesis. There is no significant difference in the amount spent on this product between different marital statuses.\n",
      "\n",
      "Product: Wines\n",
      "F value: 2.388578226472699\n",
      "P value: 0.09199594353931952\n",
      "\n",
      "We fail to reject the null hypothesis. There is no significant difference in the amount spent on this product between different marital statuses.\n",
      "\n",
      "Product: Gold\n",
      "F value: 1.810134218605713\n",
      "P value: 0.16387370849671629\n",
      "\n",
      "We fail to reject the null hypothesis. There is no significant difference in the amount spent on this product between different marital statuses.\n",
      "\n"
     ]
    }
   ],
   "source": [
    "for product in product_columns:\n",
    "    marital_status_categories = data['Marital Status'].unique()\n",
    "    data_by_category = [data[data['Marital Status'] == category][product] for category in marital_status_categories]\n",
    "    f_val, p_val = stats.f_oneway(*data_by_category)\n",
    "    print(f\"Product: {product}\")\n",
    "    print(f\"F value: {f_val}\")\n",
    "    print(f\"P value: {p_val}\\n\")\n",
    "    \n",
    "    if p_val < alpha:\n",
    "        print(\"We reject the null hypothesis. There is a significant difference in the amount spent on this product between different marital statuses.\\n\")\n",
    "    else:\n",
    "        print(\"We fail to reject the null hypothesis. There is no significant difference in the amount spent on this product between different marital statuses.\\n\")"
   ]
  },
  {
   "cell_type": "markdown",
   "id": "4f65ff13",
   "metadata": {},
   "source": [
    "- None of the product types showed a significant effect of marital status on their consumption. In other words, there is no significant difference in the consumption of these products among consumers of different marital status.\n",
    "--------------------------------------------"
   ]
  },
  {
   "cell_type": "markdown",
   "id": "847f8342",
   "metadata": {},
   "source": [
    "### Whether Education affects the price of products they buy . (mean)\n",
    "Amount spent on fish products in the past two years (MntFishProducts)\n",
    "Amount spent on meat products in the past two years (MntMeatProducts)\n",
    "Amount spent on fruit products in the past two years (MntFruits)\n",
    "Amount spent on sweet products in the past two years (MntSweetProducts)\n",
    "Amount spent on wine products in the past two years (MntWines)\n",
    "Amount spent on gold products in the past two years (MntGoldProds)"
   ]
  },
  {
   "cell_type": "code",
   "execution_count": 16,
   "id": "e0f3e917",
   "metadata": {},
   "outputs": [
    {
     "name": "stdout",
     "output_type": "stream",
     "text": [
      "Product: Fish\n",
      "F value: 12.628520543458063\n",
      "P value: 3.663885481110847e-10\n",
      "\n",
      "We reject the null hypothesis. There is a significant difference in the amount spent on this product between different education.\n",
      "\n",
      "Product: Meat\n",
      "F value: 8.40452197146084\n",
      "P value: 9.981462936945208e-07\n",
      "\n",
      "We reject the null hypothesis. There is a significant difference in the amount spent on this product between different education.\n",
      "\n",
      "Product: Fruits\n",
      "F value: 10.492844848788833\n",
      "P value: 2.021143180746687e-08\n",
      "\n",
      "We reject the null hypothesis. There is a significant difference in the amount spent on this product between different education.\n",
      "\n",
      "Product: Sweets\n",
      "F value: 12.110253836340066\n",
      "P value: 9.709128480234132e-10\n",
      "\n",
      "We reject the null hypothesis. There is a significant difference in the amount spent on this product between different education.\n",
      "\n",
      "Product: Wines\n",
      "F value: 29.66266742005684\n",
      "P value: 4.5642489636633744e-24\n",
      "\n",
      "We reject the null hypothesis. There is a significant difference in the amount spent on this product between different education.\n",
      "\n",
      "Product: Gold\n",
      "F value: 14.409794771643961\n",
      "P value: 1.2807988602649336e-11\n",
      "\n",
      "We reject the null hypothesis. There is a significant difference in the amount spent on this product between different education.\n",
      "\n"
     ]
    }
   ],
   "source": [
    "for product in product_columns:\n",
    "    education_categories = data['Education'].unique()\n",
    "    data_by_category = [data[data['Education'] == category][product] for category in education_categories]\n",
    "    f_val, p_val = stats.f_oneway(*data_by_category)\n",
    "    print(f\"Product: {product}\")\n",
    "    print(f\"F value: {f_val}\")\n",
    "    print(f\"P value: {p_val}\\n\")\n",
    "    \n",
    "    if p_val < alpha:\n",
    "        print(\"We reject the null hypothesis. There is a significant difference in the amount spent on this product between different education.\\n\")\n",
    "    else:\n",
    "        print(\"We fail to reject the null hypothesis. There is no significant difference in the amount spent on this product between different education.\\n\")"
   ]
  },
  {
   "cell_type": "markdown",
   "id": "5fcdb661",
   "metadata": {},
   "source": [
    "- All product types show a significant effect of education on their consumption. That is to say, there are significant differences in the consumption of these products among consumers with different educational levels."
   ]
  },
  {
   "cell_type": "markdown",
   "id": "6f0f7500",
   "metadata": {},
   "source": [
    "=================================================================="
   ]
  },
  {
   "cell_type": "code",
   "execution_count": null,
   "id": "83d05063",
   "metadata": {},
   "outputs": [],
   "source": []
  }
 ],
 "metadata": {
  "kernelspec": {
   "display_name": "Python 3 (ipykernel)",
   "language": "python",
   "name": "python3"
  },
  "language_info": {
   "codemirror_mode": {
    "name": "ipython",
    "version": 3
   },
   "file_extension": ".py",
   "mimetype": "text/x-python",
   "name": "python",
   "nbconvert_exporter": "python",
   "pygments_lexer": "ipython3",
   "version": "3.7.12"
  }
 },
 "nbformat": 4,
 "nbformat_minor": 5
}
